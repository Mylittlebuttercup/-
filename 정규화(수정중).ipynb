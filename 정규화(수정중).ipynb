{
 "cells": [
  {
   "cell_type": "code",
   "execution_count": 43,
   "metadata": {},
   "outputs": [],
   "source": [
    "#각 컬럼에 들어 있는 크기대로 분석결과가 달라질 수 있는데, \n",
    "#이때 상대적인 크기 차이를 제거하기 위해서 정규화를 해 준다! (데이터 scale 통일)\n",
    "#정규화는 값의 범위를 0~1사이로 옮겨준다.\n",
    "#https://bskyvision.com/849\n",
    "\n",
    "#from sklearn.preprocessing import MinMaxScaler\n",
    "#scaler = MinMaxScaler()\n",
    "#df[ : ] = scaler.fit_transform(df[ : ]) 아래 방법들이랑 무슨 차이일까??"
   ]
  },
  {
   "cell_type": "code",
   "execution_count": 12,
   "metadata": {},
   "outputs": [],
   "source": [
    "from sklearn import preprocessing\n",
    "import numpy as np\n",
    "import pandas as pd\n",
    "import matplotlib.pyplot as plt"
   ]
  },
  {
   "cell_type": "code",
   "execution_count": 13,
   "metadata": {},
   "outputs": [
    {
     "name": "stdout",
     "output_type": "stream",
     "text": [
      "[[0.05882353 0.11764706 0.17647059 0.29411765 0.35294118 0.41176471\n",
      "  0.23529412 0.47058824 0.41176471 0.35294118]]\n"
     ]
    }
   ],
   "source": [
    "x_array = np.array([1, 2,3,5,6,7,4,8,7,6])\n",
    "normalized_arr = preprocessing.normalize([x_array])\n",
    "print(normalized_arr)"
   ]
  },
  {
   "cell_type": "code",
   "execution_count": 15,
   "metadata": {},
   "outputs": [
    {
     "name": "stdout",
     "output_type": "stream",
     "text": [
      "                   label   accuracy        x0        y0        x1        y1  \\\n",
      "0                 Seated  19.508690 -0.060776  0.497554 -0.085367  0.360305   \n",
      "1                 Seated  19.548573 -0.064262  0.501585 -0.088978  0.364251   \n",
      "2                 Seated  19.589640 -0.057000  0.505776 -0.089626  0.367261   \n",
      "3                 Seated  19.537535 -0.052124  0.495743 -0.084082  0.360026   \n",
      "4                 Seated  19.480042 -0.052567  0.496677 -0.084950  0.359539   \n",
      "...                  ...        ...       ...       ...       ...       ...   \n",
      "10676  Traffic_RightTurn  21.630013 -0.000070  0.502426 -0.000326  0.360815   \n",
      "10677  Traffic_RightTurn  21.483974 -0.033529  0.497803 -0.033420  0.356488   \n",
      "10678  Traffic_RightTurn  21.707335 -0.018693  0.498812 -0.006691  0.357152   \n",
      "10679  Traffic_RightTurn  21.680399 -0.021659  0.501895 -0.015683  0.355273   \n",
      "10680  Traffic_RightTurn  21.511433 -0.024451  0.499075 -0.023881  0.353047   \n",
      "\n",
      "             x2        y2        x3        y3  ...       x20       y20  \\\n",
      "0     -0.206404  0.359822 -0.254659  0.157586  ...  0.254659 -0.505494   \n",
      "1     -0.210033  0.363897 -0.250737  0.161617  ...  0.250737 -0.517829   \n",
      "2     -0.211719  0.366885 -0.252852  0.162913  ...  0.252852 -0.522180   \n",
      "3     -0.203792  0.359649 -0.251624  0.159750  ...  0.251624 -0.511733   \n",
      "4     -0.205768  0.359155 -0.254100  0.157368  ...  0.254100 -0.512534   \n",
      "...         ...       ...       ...       ...  ...       ...       ...   \n",
      "10676 -0.098866  0.366798 -0.271326  0.367044  ...  0.160317 -0.471781   \n",
      "10677 -0.125886  0.362372 -0.285587  0.362326  ...  0.126103 -0.479197   \n",
      "10678 -0.110961  0.363098 -0.264897  0.357454  ...  0.116724 -0.480364   \n",
      "10679 -0.119264  0.361134 -0.266577  0.355392  ...  0.100901 -0.483695   \n",
      "10680 -0.121352  0.358971 -0.273786  0.352725  ...  0.079464 -0.487036   \n",
      "\n",
      "            x21       y21       x22       y22       x23       y23       x24  \\\n",
      "0      0.125220 -0.481106  0.238224 -0.529721  0.181949 -0.529865  0.117234   \n",
      "1      0.121459 -0.477317  0.218503 -0.525648  0.170166 -0.525665  0.113249   \n",
      "2      0.122626 -0.481395  0.212437 -0.522180  0.171498 -0.530216  0.114273   \n",
      "3      0.123945 -0.471659  0.235603 -0.519964  0.179967 -0.527744  0.115989   \n",
      "4      0.125114 -0.480362  0.229941 -0.528569  0.181448 -0.528767  0.117060   \n",
      "...         ...       ...       ...       ...       ...       ...       ...   \n",
      "10676  0.098497 -0.440848  0.012351 -0.514573 -0.012219 -0.502346  0.018613   \n",
      "10677  0.052553 -0.466615 -0.033426 -0.509828 -0.052182 -0.497552 -0.021469   \n",
      "10678  0.043144 -0.467566 -0.043086 -0.510892 -0.061822 -0.498516 -0.036982   \n",
      "10679  0.027589 -0.459371 -0.058080 -0.508319 -0.076766 -0.495978 -0.052033   \n",
      "10680  0.024246 -0.462584 -0.048566 -0.517217 -0.079074 -0.499119 -0.036438   \n",
      "\n",
      "            y24  \n",
      "0     -0.472980  \n",
      "1     -0.468936  \n",
      "2     -0.473121  \n",
      "3     -0.463934  \n",
      "4     -0.479984  \n",
      "...         ...  \n",
      "10676 -0.459356  \n",
      "10677 -0.466634  \n",
      "10678 -0.467663  \n",
      "10679 -0.465198  \n",
      "10680 -0.468462  \n",
      "\n",
      "[10681 rows x 52 columns]\n"
     ]
    }
   ],
   "source": [
    "dataset_df_body = pd.read_csv(\"https://raw.githubusercontent.com/ArthurFDLR/pose-classification-kit/master/pose_classification_kit/datasets/BodyPose_Dataset.csv\")\n",
    "print(dataset_df_body)"
   ]
  },
  {
   "cell_type": "code",
   "execution_count": 16,
   "metadata": {},
   "outputs": [
    {
     "name": "stdout",
     "output_type": "stream",
     "text": [
      "[19.50868988 19.54857254 19.58963966 ... 21.70733452 21.68039894\n",
      " 21.51143265]\n"
     ]
    }
   ],
   "source": [
    "value_array = np.array(dataset_df_body['accuracy'])\n",
    "print(value_array)"
   ]
  },
  {
   "cell_type": "code",
   "execution_count": 18,
   "metadata": {},
   "outputs": [
    {
     "name": "stdout",
     "output_type": "stream",
     "text": [
      "[[0.00974152 0.00976143 0.00978194 ... 0.01083939 0.01082594 0.01074157]]\n"
     ]
    }
   ],
   "source": [
    "normalized_array = preprocessing.normalize([value_array])\n",
    "print(normalized_array) #데이터 세트의 특정 열 정규화"
   ]
  },
  {
   "cell_type": "code",
   "execution_count": 27,
   "metadata": {},
   "outputs": [
    {
     "data": {
      "text/plain": [
       "array([[-6.07763603e-02,  4.97553825e-01, -8.53665248e-02, ...,\n",
       "         1.17234297e-01, -4.72980350e-01,  3.00000000e+00],\n",
       "       [-6.42622411e-02,  5.01585424e-01, -8.89782980e-02, ...,\n",
       "         1.13249257e-01, -4.68935788e-01,  3.00000000e+00],\n",
       "       [-5.69996908e-02,  5.05775571e-01, -8.96262750e-02, ...,\n",
       "         1.14272878e-01, -4.73121136e-01,  3.00000000e+00],\n",
       "       ...,\n",
       "       [-1.86927896e-02,  4.98812318e-01, -6.69106049e-03, ...,\n",
       "        -3.69822420e-02, -4.67663318e-01,  1.40000000e+01],\n",
       "       [-2.16590632e-02,  5.01895249e-01, -1.56826191e-02, ...,\n",
       "        -5.20327650e-02, -4.65197653e-01,  1.40000000e+01],\n",
       "       [-2.44507138e-02,  4.99075443e-01, -2.38813125e-02, ...,\n",
       "        -3.64378393e-02, -4.68461603e-01,  1.40000000e+01]])"
      ]
     },
     "execution_count": 27,
     "metadata": {},
     "output_type": "execute_result"
    }
   ],
   "source": [
    "dataset_df_body['category'] = dataset_df_body['label'].astype('category').cat.codes\n",
    "datas = dataset_df_body.drop(['label','accuracy'], axis=1).to_numpy()"
   ]
  },
  {
   "cell_type": "code",
   "execution_count": 30,
   "metadata": {},
   "outputs": [
    {
     "name": "stdout",
     "output_type": "stream",
     "text": [
      "[[-0.00380165  0.01196594 -0.00638246 ...  0.006121   -0.01059297\n",
      "   0.00262187]\n",
      " [-0.0040197   0.0120629  -0.0066525  ...  0.00591294 -0.01050239\n",
      "   0.00262187]\n",
      " [-0.00356541  0.01216367 -0.00670094 ...  0.00596638 -0.01059612\n",
      "   0.00262187]\n",
      " ...\n",
      " [-0.00116926  0.01199621 -0.00050026 ... -0.00193091 -0.01047389\n",
      "   0.01223541]\n",
      " [-0.00135481  0.01207035 -0.00117252 ... -0.00271672 -0.01041867\n",
      "   0.01223541]\n",
      " [-0.00152943  0.01200254 -0.0017855  ... -0.00190248 -0.01049177\n",
      "   0.01223541]]\n"
     ]
    }
   ],
   "source": [
    "result = preprocessing.normalize(datas, axis=0)\n",
    "print(result) #열을 배열로 사용하지 않고 전체 data set 정규화 변환 -> 의미가 있는가?"
   ]
  },
  {
   "cell_type": "code",
   "execution_count": 37,
   "metadata": {},
   "outputs": [
    {
     "data": {
      "text/html": [
       "<div>\n",
       "<style scoped>\n",
       "    .dataframe tbody tr th:only-of-type {\n",
       "        vertical-align: middle;\n",
       "    }\n",
       "\n",
       "    .dataframe tbody tr th {\n",
       "        vertical-align: top;\n",
       "    }\n",
       "\n",
       "    .dataframe thead th {\n",
       "        text-align: right;\n",
       "    }\n",
       "</style>\n",
       "<table border=\"1\" class=\"dataframe\">\n",
       "  <thead>\n",
       "    <tr style=\"text-align: right;\">\n",
       "      <th></th>\n",
       "      <th>A</th>\n",
       "      <th>B</th>\n",
       "      <th>C</th>\n",
       "      <th>D</th>\n",
       "    </tr>\n",
       "  </thead>\n",
       "  <tbody>\n",
       "    <tr>\n",
       "      <th>0</th>\n",
       "      <td>6304</td>\n",
       "      <td>1767</td>\n",
       "      <td>28056</td>\n",
       "      <td>70</td>\n",
       "    </tr>\n",
       "    <tr>\n",
       "      <th>1</th>\n",
       "      <td>376</td>\n",
       "      <td>8277</td>\n",
       "      <td>92308</td>\n",
       "      <td>43</td>\n",
       "    </tr>\n",
       "    <tr>\n",
       "      <th>2</th>\n",
       "      <td>1745</td>\n",
       "      <td>379</td>\n",
       "      <td>66050</td>\n",
       "      <td>43</td>\n",
       "    </tr>\n",
       "    <tr>\n",
       "      <th>3</th>\n",
       "      <td>2048</td>\n",
       "      <td>4756</td>\n",
       "      <td>55130</td>\n",
       "      <td>30</td>\n",
       "    </tr>\n",
       "    <tr>\n",
       "      <th>4</th>\n",
       "      <td>5179</td>\n",
       "      <td>8528</td>\n",
       "      <td>45022</td>\n",
       "      <td>88</td>\n",
       "    </tr>\n",
       "  </tbody>\n",
       "</table>\n",
       "</div>"
      ],
      "text/plain": [
       "      A     B      C   D\n",
       "0  6304  1767  28056  70\n",
       "1   376  8277  92308  43\n",
       "2  1745   379  66050  43\n",
       "3  2048  4756  55130  30\n",
       "4  5179  8528  45022  88"
      ]
     },
     "execution_count": 37,
     "metadata": {},
     "output_type": "execute_result"
    }
   ],
   "source": [
    "data = {\n",
    "    'A': np.random.choice(10000, 1000),\n",
    "    'B': np.random.choice(10000, 1000),\n",
    "    'C': np.random.choice(100000, 1000),\n",
    "    'D': np.random.choice(100, 1000)\n",
    "}\n",
    "\n",
    "df = pd.DataFrame(data)\n",
    "df.head()"
   ]
  },
  {
   "cell_type": "code",
   "execution_count": 38,
   "metadata": {},
   "outputs": [
    {
     "data": {
      "text/html": [
       "<div>\n",
       "<style scoped>\n",
       "    .dataframe tbody tr th:only-of-type {\n",
       "        vertical-align: middle;\n",
       "    }\n",
       "\n",
       "    .dataframe tbody tr th {\n",
       "        vertical-align: top;\n",
       "    }\n",
       "\n",
       "    .dataframe thead th {\n",
       "        text-align: right;\n",
       "    }\n",
       "</style>\n",
       "<table border=\"1\" class=\"dataframe\">\n",
       "  <thead>\n",
       "    <tr style=\"text-align: right;\">\n",
       "      <th></th>\n",
       "      <th>A</th>\n",
       "      <th>B</th>\n",
       "      <th>C</th>\n",
       "      <th>D</th>\n",
       "    </tr>\n",
       "  </thead>\n",
       "  <tbody>\n",
       "    <tr>\n",
       "      <th>0</th>\n",
       "      <td>0.411781</td>\n",
       "      <td>-1.164511</td>\n",
       "      <td>-0.766822</td>\n",
       "      <td>0.671274</td>\n",
       "    </tr>\n",
       "    <tr>\n",
       "      <th>1</th>\n",
       "      <td>-1.618032</td>\n",
       "      <td>1.165558</td>\n",
       "      <td>1.477891</td>\n",
       "      <td>-0.258516</td>\n",
       "    </tr>\n",
       "    <tr>\n",
       "      <th>2</th>\n",
       "      <td>-1.149271</td>\n",
       "      <td>-1.661306</td>\n",
       "      <td>0.560540</td>\n",
       "      <td>-0.258516</td>\n",
       "    </tr>\n",
       "    <tr>\n",
       "      <th>3</th>\n",
       "      <td>-1.045521</td>\n",
       "      <td>-0.094683</td>\n",
       "      <td>0.179038</td>\n",
       "      <td>-0.706193</td>\n",
       "    </tr>\n",
       "    <tr>\n",
       "      <th>4</th>\n",
       "      <td>0.026568</td>\n",
       "      <td>1.255397</td>\n",
       "      <td>-0.174096</td>\n",
       "      <td>1.291134</td>\n",
       "    </tr>\n",
       "  </tbody>\n",
       "</table>\n",
       "</div>"
      ],
      "text/plain": [
       "          A         B         C         D\n",
       "0  0.411781 -1.164511 -0.766822  0.671274\n",
       "1 -1.618032  1.165558  1.477891 -0.258516\n",
       "2 -1.149271 -1.661306  0.560540 -0.258516\n",
       "3 -1.045521 -0.094683  0.179038 -0.706193\n",
       "4  0.026568  1.255397 -0.174096  1.291134"
      ]
     },
     "execution_count": 38,
     "metadata": {},
     "output_type": "execute_result"
    }
   ],
   "source": [
    "normalization_df = (df - df.mean())/df.std()\n",
    "normalization_df.head() #-1과1사이 데이터 정규화"
   ]
  },
  {
   "cell_type": "code",
   "execution_count": 42,
   "metadata": {},
   "outputs": [
    {
     "name": "stdout",
     "output_type": "stream",
     "text": [
      "            A         B         C         D\n",
      "0    0.631031  0.176771  0.280765  0.707071\n",
      "1    0.037638  0.828031  0.923754  0.434343\n",
      "2    0.174675  0.037915  0.660983  0.434343\n",
      "3    0.205005  0.475790  0.551703  0.303030\n",
      "4    0.518418  0.853141  0.450549  0.888889\n",
      "..        ...       ...       ...       ...\n",
      "995  0.007608  0.169868  0.833939  0.707071\n",
      "996  0.566066  0.316126  0.616510  0.282828\n",
      "997  0.726026  0.976491  0.971429  0.151515\n",
      "998  0.283684  0.368447  0.967066  0.464646\n",
      "999  0.237337  1.000000  0.850401  0.333333\n",
      "\n",
      "[1000 rows x 4 columns]\n"
     ]
    }
   ],
   "source": [
    "for column in df.columns:\n",
    "    df[column] = df[column] / df[column].abs().max()\n",
    "print(df) #최대 절대 스케일링"
   ]
  }
 ],
 "metadata": {
  "kernelspec": {
   "display_name": "Python 3",
   "language": "python",
   "name": "python3"
  },
  "language_info": {
   "codemirror_mode": {
    "name": "ipython",
    "version": 3
   },
   "file_extension": ".py",
   "mimetype": "text/x-python",
   "name": "python",
   "nbconvert_exporter": "python",
   "pygments_lexer": "ipython3",
   "version": "3.8.5"
  }
 },
 "nbformat": 4,
 "nbformat_minor": 4
}
